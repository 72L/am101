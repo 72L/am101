{
 "metadata": {
  "name": "",
  "signature": "sha256:b6a800747554609927c294f339fee532f82d26d27b6473ff42b0ae8f93032a6a"
 },
 "nbformat": 3,
 "nbformat_minor": 0,
 "worksheets": [
  {
   "cells": [
    {
     "cell_type": "code",
     "collapsed": false,
     "input": [
      "%matplotlib inline\n",
      "import numpy as np\n",
      "import scipy as sp\n",
      "import matplotlib.pyplot as plt\n",
      "import seaborn as sns"
     ],
     "language": "python",
     "metadata": {},
     "outputs": [],
     "prompt_number": 3
    },
    {
     "cell_type": "markdown",
     "metadata": {},
     "source": [
      "###Problem 1\n"
     ]
    },
    {
     "cell_type": "code",
     "collapsed": false,
     "input": [
      "#data entry:\n",
      "data = np.array([ [215,30.8], [201,32.5],[196,35.4],[226,28.1],\n",
      "                    [226,24.4],[348,24.1],[226,28.5],[348,24.2],[148,32.8],[226,28],[122,41.3], [215,30],\n",
      "                    [215,28.2],[148,34.1],[500,18.7],[348,20.3],[165,35.1],[148,37.9],[148,33.8],[500,25.9],[148,26.4]\n",
      "                ])\n",
      "#plot data\n",
      "plt.scatter(data[:,0].T,data[:,1].T)\n",
      "plt.xlabel('Engine Displacement (in^3)')\n",
      "plt.ylabel('MPG (highway)')\n",
      "\n",
      "#linear regression\n",
      "p = np.polyfit(data[:,0].T,data[:,1].T,1)\n",
      "x = np.linspace(100,520,10)\n",
      "fit = lambda q: p[0]*q + p[1]\n",
      "plt.plot(x,fit(x),'r-')\n",
      "plt.show()"
     ],
     "language": "python",
     "metadata": {},
     "outputs": [
      {
       "metadata": {},
       "output_type": "display_data",
       "png": "[encoded data removed]",
       "text": [
        "<matplotlib.figure.Figure at 0x10baf8090>"
       ]
      }
     ],
     "prompt_number": 48
    },
    {
     "cell_type": "code",
     "collapsed": false,
     "input": [
      "print \"slope:\", p[0]\n",
      "print \"y-intercept:\", p[1]"
     ],
     "language": "python",
     "metadata": {},
     "outputs": [
      {
       "output_type": "stream",
       "stream": "stdout",
       "text": [
        "slope: -0.040216384587\n",
        "y-intercept: 39.1555048321\n"
       ]
      }
     ],
     "prompt_number": 49
    },
    {
     "cell_type": "markdown",
     "metadata": {},
     "source": [
      "$ \\hat{y} = -0.040216384587 x + 39.1555048321 $"
     ]
    },
    {
     "cell_type": "markdown",
     "metadata": {},
     "source": [
      "####(c) Estimate for 120 in^3"
     ]
    },
    {
     "cell_type": "code",
     "collapsed": false,
     "input": [
      "fit(150)"
     ],
     "language": "python",
     "metadata": {},
     "outputs": [
      {
       "metadata": {},
       "output_type": "pyout",
       "prompt_number": 37,
       "text": [
        "33.123047143998576"
       ]
      }
     ],
     "prompt_number": 37
    },
    {
     "cell_type": "markdown",
     "metadata": {},
     "source": [
      "####(d) Neon Residual"
     ]
    },
    {
     "cell_type": "code",
     "collapsed": false,
     "input": [
      "print \"estimate:\", fit(122)\n",
      "print \"residual:\", (41.3 - fit(122))"
     ],
     "language": "python",
     "metadata": {},
     "outputs": [
      {
       "output_type": "stream",
       "stream": "stdout",
       "text": [
        "estimate: 34.2491059124\n",
        "residual: 7.05089408756\n"
       ]
      }
     ],
     "prompt_number": 43
    },
    {
     "cell_type": "markdown",
     "metadata": {},
     "source": [
      "####(e) Converting from cubic in to cubic cm\n",
      "\n",
      "$ x_{cm} = 2.54 x_{in} $\n",
      "\n",
      "$ x_{in} = \\frac {x_{cm} }{ 2.54 } $\n",
      "\n",
      "$ x_{in^3} = \\frac {x_{cm^3} }{ 2.54^3 } $\n",
      "\n",
      "original: $ \\hat{y} = -0.040216384587 x_{in^3} + 39.1555048321 $\n",
      "\n",
      "new:\n",
      "\n",
      "$ \\hat{y} = \\frac {-0.040216384587 }{ 2.54^3 } x_{cm^3} + 39.1555048321 $\n",
      "\n",
      "$ \\hat{y} = -0.002454 x_{cm^3} + 39.1555048321 $\n"
     ]
    },
    {
     "cell_type": "markdown",
     "metadata": {},
     "source": [
      "####(f) Switching x and y"
     ]
    },
    {
     "cell_type": "code",
     "collapsed": false,
     "input": [
      "#linear regression\n",
      "p2 = np.polyfit(data[:,1].T,data[:,0].T,1)\n",
      "x = np.linspace(100,520,10)\n",
      "print \"slope:\", p2[0]\n",
      "print \"y-intercept:\", p2[1]"
     ],
     "language": "python",
     "metadata": {},
     "outputs": [
      {
       "output_type": "stream",
       "stream": "stdout",
       "text": [
        "slope: -14.7028288715\n",
        "y-intercept: 673.338348322\n"
       ]
      }
     ],
     "prompt_number": 47
    },
    {
     "cell_type": "markdown",
     "metadata": {},
     "source": [
      ".\n",
      "\n",
      ".\n",
      "\n",
      "."
     ]
    },
    {
     "cell_type": "markdown",
     "metadata": {},
     "source": [
      "###Problem 2"
     ]
    },
    {
     "cell_type": "markdown",
     "metadata": {},
     "source": [
      "####(a)\n",
      ".\n",
      "\n",
      ".\n",
      "\n",
      ".\n"
     ]
    },
    {
     "cell_type": "markdown",
     "metadata": {},
     "source": [
      "####(b)"
     ]
    },
    {
     "cell_type": "code",
     "collapsed": false,
     "input": [
      "bhat = np.dot(data[:,0],data[:,1])/np.dot(data[:,0],data[:,0])\n",
      "print \"beta hat:\", bhat"
     ],
     "language": "python",
     "metadata": {},
     "outputs": [
      {
       "output_type": "stream",
       "stream": "stdout",
       "text": [
        "beta hat: 0.0965123053141\n"
       ]
      }
     ],
     "prompt_number": 56
    },
    {
     "cell_type": "code",
     "collapsed": false,
     "input": [
      "#plot data\n",
      "plt.scatter(data[:,0].T,data[:,1].T)\n",
      "plt.xlabel('Engine Displacement (in^3)')\n",
      "plt.ylabel('MPG (highway)')\n",
      "\n",
      "#plot fits\n",
      "p = np.polyfit(data[:,0].T,data[:,1].T,1)\n",
      "x = np.linspace(100,520,10)\n",
      "fit = lambda q: p[0]*q + p[1]\n",
      "plt.plot(x,fit(x),'r-', label=\"1(b) fit\")\n",
      "plt.plot(x, bhat*x,'b-', label=\"2(b) fit\")\n",
      "plt.legend()\n",
      "plt.show()"
     ],
     "language": "python",
     "metadata": {},
     "outputs": [
      {
       "metadata": {},
       "output_type": "display_data",
       "png": "[encoded data removed]",
       "text": [
        "<matplotlib.figure.Figure at 0x10b823710>"
       ]
      }
     ],
     "prompt_number": 60
    },
    {
     "cell_type": "code",
     "collapsed": false,
     "input": [
      "#residuals\n",
      "resi = data[:,1] - bhat*data[:,0]\n",
      "print \"sum of residuals:\", resi.sum()\n",
      "print \"dot product of residuals and x:\", np.dot(resi,data[:,0])"
     ],
     "language": "python",
     "metadata": {},
     "outputs": [
      {
       "output_type": "stream",
       "stream": "stdout",
       "text": [
        "sum of residuals: 136.297764239\n",
        "dot product of residuals and x: 1.27329258248e-11\n"
       ]
      }
     ],
     "prompt_number": 67
    }
   ],
   "metadata": {}
  }
 ]
}